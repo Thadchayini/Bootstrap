{
  "nbformat": 4,
  "nbformat_minor": 0,
  "metadata": {
    "colab": {
      "provenance": [],
      "gpuType": "T4",
      "authorship_tag": "ABX9TyObCZ3tIydY0V6PcQPn7iKS",
      "include_colab_link": true
    },
    "kernelspec": {
      "name": "python3",
      "display_name": "Python 3"
    },
    "language_info": {
      "name": "python"
    },
    "accelerator": "GPU"
  },
  "cells": [
    {
      "cell_type": "markdown",
      "metadata": {
        "id": "view-in-github",
        "colab_type": "text"
      },
      "source": [
        "<a href=\"https://colab.research.google.com/github/Thadchayini/Bootstrap/blob/master/OcrTamil.ipynb\" target=\"_parent\"><img src=\"https://colab.research.google.com/assets/colab-badge.svg\" alt=\"Open In Colab\"/></a>"
      ]
    },
    {
      "cell_type": "code",
      "source": [
        "!pip install paddlepaddle-gpu==2.4.2.post112 -f https://www.paddlepaddle.org.cn/whl/linux/mkl/avx/stable.html"
      ],
      "metadata": {
        "id": "aOKnyuN1N8Y0"
      },
      "execution_count": null,
      "outputs": []
    },
    {
      "cell_type": "code",
      "source": [
        "!pip install paddleocr==2.0.6"
      ],
      "metadata": {
        "id": "qLoQv3A_OdN0"
      },
      "execution_count": null,
      "outputs": []
    },
    {
      "cell_type": "code",
      "source": [
        "!pip install paddlepaddle-gpu"
      ],
      "metadata": {
        "id": "3OiK7f6mOuWN"
      },
      "execution_count": null,
      "outputs": []
    },
    {
      "cell_type": "code",
      "source": [
        "!git clone https://github.com/PaddlePaddle/PaddleOCR.git"
      ],
      "metadata": {
        "id": "GQczeC2YP7ew",
        "colab": {
          "base_uri": "https://localhost:8080/"
        },
        "outputId": "acfe0a90-01b0-417b-bc9c-96a4aa849cc6"
      },
      "execution_count": 2,
      "outputs": [
        {
          "output_type": "stream",
          "name": "stdout",
          "text": [
            "Cloning into 'PaddleOCR'...\n",
            "remote: Enumerating objects: 49547, done.\u001b[K\n",
            "remote: Counting objects: 100% (773/773), done.\u001b[K\n",
            "remote: Compressing objects: 100% (502/502), done.\u001b[K\n",
            "remote: Total 49547 (delta 267), reused 693 (delta 240), pack-reused 48774\u001b[K\n",
            "Receiving objects: 100% (49547/49547), 346.75 MiB | 32.95 MiB/s, done.\n",
            "Resolving deltas: 100% (34655/34655), done.\n"
          ]
        }
      ]
    },
    {
      "cell_type": "code",
      "source": [
        "%cd PaddleOCR"
      ],
      "metadata": {
        "colab": {
          "base_uri": "https://localhost:8080/"
        },
        "id": "BlN28FjXQE6c",
        "outputId": "cd6e8aab-56d8-4169-a9f6-eb06a3174f6b"
      },
      "execution_count": null,
      "outputs": [
        {
          "output_type": "stream",
          "name": "stdout",
          "text": [
            "/content/PaddleOCR\n"
          ]
        }
      ]
    },
    {
      "cell_type": "code",
      "source": [
        "!pip install paddleocr>=2.0.6"
      ],
      "metadata": {
        "id": "XZvlmBLdVpbm"
      },
      "execution_count": null,
      "outputs": []
    },
    {
      "cell_type": "code",
      "source": [
        "!pip install paddlepaddle"
      ],
      "metadata": {
        "id": "4GsXHrMgbZem"
      },
      "execution_count": null,
      "outputs": []
    },
    {
      "cell_type": "code",
      "source": [
        "!python3 tools/train.py -c configs/rec/multi_language/rec_tamil_lite_train.yml"
      ],
      "metadata": {
        "id": "gaFCKSI9Uu_2"
      },
      "execution_count": null,
      "outputs": []
    },
    {
      "cell_type": "code",
      "source": [
        "!pip install paddlepaddle-gpu"
      ],
      "metadata": {
        "id": "YXuUN5Xxl1H3"
      },
      "execution_count": null,
      "outputs": []
    },
    {
      "cell_type": "code",
      "source": [
        "!python3 /content/PaddleOCR/tools/train.py -c /content/PaddleOCR/configs/rec/multi_language/rec_tamil_lite_train.yml"
      ],
      "metadata": {
        "colab": {
          "base_uri": "https://localhost:8080/"
        },
        "id": "hXeD0qIGjwTC",
        "outputId": "62639800-b660-481f-f57a-b64317aaa108"
      },
      "execution_count": 1,
      "outputs": [
        {
          "output_type": "stream",
          "name": "stdout",
          "text": [
            "python3: can't open file '/content/PaddleOCR/tools/train.py': [Errno 2] No such file or directory\n"
          ]
        }
      ]
    }
  ]
}