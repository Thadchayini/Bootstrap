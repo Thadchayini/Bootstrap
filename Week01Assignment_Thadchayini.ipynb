{
  "nbformat": 4,
  "nbformat_minor": 0,
  "metadata": {
    "colab": {
      "provenance": [],
      "authorship_tag": "ABX9TyPRbw7K/JPZ9aFBmFTQSgrW",
      "include_colab_link": true
    },
    "kernelspec": {
      "name": "python3",
      "display_name": "Python 3"
    },
    "language_info": {
      "name": "python"
    }
  },
  "cells": [
    {
      "cell_type": "markdown",
      "metadata": {
        "id": "view-in-github",
        "colab_type": "text"
      },
      "source": [
        "<a href=\"https://colab.research.google.com/github/Thadchayini/Bootstrap/blob/master/Week01Assignment_Thadchayini.ipynb\" target=\"_parent\"><img src=\"https://colab.research.google.com/assets/colab-badge.svg\" alt=\"Open In Colab\"/></a>"
      ]
    },
    {
      "cell_type": "code",
      "execution_count": null,
      "metadata": {
        "id": "-CvB9g-pHwjR"
      },
      "outputs": [],
      "source": []
    },
    {
      "cell_type": "code",
      "source": [
        "# Mount google drive\n",
        "from google.colab import drive\n",
        "drive.mount('/content/drive')"
      ],
      "metadata": {
        "colab": {
          "base_uri": "https://localhost:8080/"
        },
        "id": "3hH8PWaHICEv",
        "outputId": "8ac734b8-f222-40cd-c696-afa43b49a990"
      },
      "execution_count": null,
      "outputs": [
        {
          "output_type": "stream",
          "name": "stdout",
          "text": [
            "Mounted at /content/drive\n"
          ]
        }
      ]
    },
    {
      "cell_type": "code",
      "source": [
        "# Install PyMuPDF\n",
        "%pip install PyMuPDF"
      ],
      "metadata": {
        "colab": {
          "base_uri": "https://localhost:8080/"
        },
        "id": "i5Xu2WF8IIyJ",
        "outputId": "b0ab97ec-08b4-4b92-fdc4-fae1fa291098"
      },
      "execution_count": null,
      "outputs": [
        {
          "output_type": "stream",
          "name": "stdout",
          "text": [
            "Collecting PyMuPDF\n",
            "  Downloading PyMuPDF-1.24.10-cp310-none-manylinux2014_x86_64.whl.metadata (3.4 kB)\n",
            "Collecting PyMuPDFb==1.24.10 (from PyMuPDF)\n",
            "  Downloading PyMuPDFb-1.24.10-py3-none-manylinux2014_x86_64.manylinux_2_17_x86_64.whl.metadata (1.4 kB)\n",
            "Downloading PyMuPDF-1.24.10-cp310-none-manylinux2014_x86_64.whl (3.5 MB)\n",
            "\u001b[2K   \u001b[90m━━━━━━━━━━━━━━━━━━━━━━━━━━━━━━━━━━━━━━━━\u001b[0m \u001b[32m3.5/3.5 MB\u001b[0m \u001b[31m27.8 MB/s\u001b[0m eta \u001b[36m0:00:00\u001b[0m\n",
            "\u001b[?25hDownloading PyMuPDFb-1.24.10-py3-none-manylinux2014_x86_64.manylinux_2_17_x86_64.whl (15.9 MB)\n",
            "\u001b[2K   \u001b[90m━━━━━━━━━━━━━━━━━━━━━━━━━━━━━━━━━━━━━━━━\u001b[0m \u001b[32m15.9/15.9 MB\u001b[0m \u001b[31m82.8 MB/s\u001b[0m eta \u001b[36m0:00:00\u001b[0m\n",
            "\u001b[?25hInstalling collected packages: PyMuPDFb, PyMuPDF\n",
            "Successfully installed PyMuPDF-1.24.10 PyMuPDFb-1.24.10\n"
          ]
        }
      ]
    },
    {
      "cell_type": "code",
      "source": [
        "import os\n",
        "\n",
        "pdf_path = '/content/drive/MyDrive/idp_bootcamp/week_1/Week1AssignmentPDF.pdf'\n",
        "\n",
        "output_folder = '/content/drive/MyDrive/idp_bootcamp/week_1/Week1Assignment-output'\n",
        "\n",
        "if not os.path.exists(output_folder):\n",
        "    os.makedirs(output_folder)"
      ],
      "metadata": {
        "id": "8v5Jc0zGI-Xk"
      },
      "execution_count": null,
      "outputs": []
    },
    {
      "cell_type": "code",
      "source": [
        "import fitz\n",
        "import os\n",
        "\n",
        "def pdf_to_images(pdf_path, output_folder):\n",
        "    pdf_document = fitz.open(pdf_path)\n",
        "\n",
        "    for page_number in range(len(pdf_document)):\n",
        "        page = pdf_document.load_page(page_number)\n",
        "\n",
        "        pix = page.get_pixmap()\n",
        "\n",
        "        output_image_path = os.path.join(output_folder, f'page_{page_number + 1}.png')\n",
        "\n",
        "        pix.save(output_image_path)\n",
        "\n",
        "        print(f'Page {page_number + 1} saved as {output_image_path}')\n",
        "\n",
        "    pdf_document.close()\n",
        "\n",
        "pdf_to_images(pdf_path, output_folder)\n"
      ],
      "metadata": {
        "colab": {
          "base_uri": "https://localhost:8080/"
        },
        "id": "-Y5pd82GIz7j",
        "outputId": "a69eaa60-a0fa-47ed-f7ba-bf2711f3772f"
      },
      "execution_count": null,
      "outputs": [
        {
          "output_type": "stream",
          "name": "stdout",
          "text": [
            "Page 1 saved as /content/drive/MyDrive/idp_bootcamp/week_1/Week1Assignment-output/page_1.png\n",
            "Page 2 saved as /content/drive/MyDrive/idp_bootcamp/week_1/Week1Assignment-output/page_2.png\n",
            "Page 3 saved as /content/drive/MyDrive/idp_bootcamp/week_1/Week1Assignment-output/page_3.png\n",
            "Page 4 saved as /content/drive/MyDrive/idp_bootcamp/week_1/Week1Assignment-output/page_4.png\n",
            "Page 5 saved as /content/drive/MyDrive/idp_bootcamp/week_1/Week1Assignment-output/page_5.png\n",
            "Page 6 saved as /content/drive/MyDrive/idp_bootcamp/week_1/Week1Assignment-output/page_6.png\n",
            "Page 7 saved as /content/drive/MyDrive/idp_bootcamp/week_1/Week1Assignment-output/page_7.png\n",
            "Page 8 saved as /content/drive/MyDrive/idp_bootcamp/week_1/Week1Assignment-output/page_8.png\n",
            "Page 9 saved as /content/drive/MyDrive/idp_bootcamp/week_1/Week1Assignment-output/page_9.png\n",
            "Page 10 saved as /content/drive/MyDrive/idp_bootcamp/week_1/Week1Assignment-output/page_10.png\n",
            "Page 11 saved as /content/drive/MyDrive/idp_bootcamp/week_1/Week1Assignment-output/page_11.png\n",
            "Page 12 saved as /content/drive/MyDrive/idp_bootcamp/week_1/Week1Assignment-output/page_12.png\n"
          ]
        }
      ]
    },
    {
      "cell_type": "markdown",
      "source": [
        "2"
      ],
      "metadata": {
        "id": "Q0Fl4h2WJ7nd"
      }
    },
    {
      "cell_type": "code",
      "source": [
        "!pip install paddlepaddle"
      ],
      "metadata": {
        "colab": {
          "base_uri": "https://localhost:8080/"
        },
        "id": "QSy2bVF8J9rQ",
        "outputId": "b4276786-470a-4f15-e166-03c6fd0b7fe5"
      },
      "execution_count": null,
      "outputs": [
        {
          "output_type": "stream",
          "name": "stdout",
          "text": [
            "Collecting paddlepaddle\n",
            "  Downloading paddlepaddle-2.6.2-cp310-cp310-manylinux1_x86_64.whl.metadata (8.6 kB)\n",
            "Collecting httpx (from paddlepaddle)\n",
            "  Downloading httpx-0.27.2-py3-none-any.whl.metadata (7.1 kB)\n",
            "Requirement already satisfied: numpy>=1.13 in /usr/local/lib/python3.10/dist-packages (from paddlepaddle) (1.26.4)\n",
            "Requirement already satisfied: Pillow in /usr/local/lib/python3.10/dist-packages (from paddlepaddle) (10.4.0)\n",
            "Requirement already satisfied: decorator in /usr/local/lib/python3.10/dist-packages (from paddlepaddle) (4.4.2)\n",
            "Collecting astor (from paddlepaddle)\n",
            "  Downloading astor-0.8.1-py2.py3-none-any.whl.metadata (4.2 kB)\n",
            "Collecting opt-einsum==3.3.0 (from paddlepaddle)\n",
            "  Downloading opt_einsum-3.3.0-py3-none-any.whl.metadata (6.5 kB)\n",
            "Requirement already satisfied: protobuf>=3.20.2 in /usr/local/lib/python3.10/dist-packages (from paddlepaddle) (3.20.3)\n",
            "Requirement already satisfied: anyio in /usr/local/lib/python3.10/dist-packages (from httpx->paddlepaddle) (3.7.1)\n",
            "Requirement already satisfied: certifi in /usr/local/lib/python3.10/dist-packages (from httpx->paddlepaddle) (2024.8.30)\n",
            "Collecting httpcore==1.* (from httpx->paddlepaddle)\n",
            "  Downloading httpcore-1.0.6-py3-none-any.whl.metadata (21 kB)\n",
            "Requirement already satisfied: idna in /usr/local/lib/python3.10/dist-packages (from httpx->paddlepaddle) (3.10)\n",
            "Requirement already satisfied: sniffio in /usr/local/lib/python3.10/dist-packages (from httpx->paddlepaddle) (1.3.1)\n",
            "Collecting h11<0.15,>=0.13 (from httpcore==1.*->httpx->paddlepaddle)\n",
            "  Downloading h11-0.14.0-py3-none-any.whl.metadata (8.2 kB)\n",
            "Requirement already satisfied: exceptiongroup in /usr/local/lib/python3.10/dist-packages (from anyio->httpx->paddlepaddle) (1.2.2)\n",
            "Downloading paddlepaddle-2.6.2-cp310-cp310-manylinux1_x86_64.whl (126.0 MB)\n",
            "\u001b[2K   \u001b[90m━━━━━━━━━━━━━━━━━━━━━━━━━━━━━━━━━━━━━━━━\u001b[0m \u001b[32m126.0/126.0 MB\u001b[0m \u001b[31m7.3 MB/s\u001b[0m eta \u001b[36m0:00:00\u001b[0m\n",
            "\u001b[?25hDownloading opt_einsum-3.3.0-py3-none-any.whl (65 kB)\n",
            "\u001b[2K   \u001b[90m━━━━━━━━━━━━━━━━━━━━━━━━━━━━━━━━━━━━━━━━\u001b[0m \u001b[32m65.5/65.5 kB\u001b[0m \u001b[31m4.0 MB/s\u001b[0m eta \u001b[36m0:00:00\u001b[0m\n",
            "\u001b[?25hDownloading astor-0.8.1-py2.py3-none-any.whl (27 kB)\n",
            "Downloading httpx-0.27.2-py3-none-any.whl (76 kB)\n",
            "\u001b[2K   \u001b[90m━━━━━━━━━━━━━━━━━━━━━━━━━━━━━━━━━━━━━━━━\u001b[0m \u001b[32m76.4/76.4 kB\u001b[0m \u001b[31m4.8 MB/s\u001b[0m eta \u001b[36m0:00:00\u001b[0m\n",
            "\u001b[?25hDownloading httpcore-1.0.6-py3-none-any.whl (78 kB)\n",
            "\u001b[2K   \u001b[90m━━━━━━━━━━━━━━━━━━━━━━━━━━━━━━━━━━━━━━━━\u001b[0m \u001b[32m78.0/78.0 kB\u001b[0m \u001b[31m4.7 MB/s\u001b[0m eta \u001b[36m0:00:00\u001b[0m\n",
            "\u001b[?25hDownloading h11-0.14.0-py3-none-any.whl (58 kB)\n",
            "\u001b[2K   \u001b[90m━━━━━━━━━━━━━━━━━━━━━━━━━━━━━━━━━━━━━━━━\u001b[0m \u001b[32m58.3/58.3 kB\u001b[0m \u001b[31m3.8 MB/s\u001b[0m eta \u001b[36m0:00:00\u001b[0m\n",
            "\u001b[?25hInstalling collected packages: opt-einsum, h11, astor, httpcore, httpx, paddlepaddle\n",
            "  Attempting uninstall: opt-einsum\n",
            "    Found existing installation: opt_einsum 3.4.0\n",
            "    Uninstalling opt_einsum-3.4.0:\n",
            "      Successfully uninstalled opt_einsum-3.4.0\n",
            "Successfully installed astor-0.8.1 h11-0.14.0 httpcore-1.0.6 httpx-0.27.2 opt-einsum-3.3.0 paddlepaddle-2.6.2\n"
          ]
        }
      ]
    },
    {
      "cell_type": "code",
      "source": [
        "!pip install paddleocr"
      ],
      "metadata": {
        "colab": {
          "base_uri": "https://localhost:8080/"
        },
        "id": "gIZ7aTiGKDoB",
        "outputId": "dfb666ca-8e8b-4cb4-e91c-bdbe6616f8b0"
      },
      "execution_count": null,
      "outputs": [
        {
          "output_type": "stream",
          "name": "stdout",
          "text": [
            "Collecting paddleocr\n",
            "  Downloading paddleocr-2.8.1-py3-none-any.whl.metadata (19 kB)\n",
            "Requirement already satisfied: shapely in /usr/local/lib/python3.10/dist-packages (from paddleocr) (2.0.6)\n",
            "Requirement already satisfied: scikit-image in /usr/local/lib/python3.10/dist-packages (from paddleocr) (0.24.0)\n",
            "Requirement already satisfied: imgaug in /usr/local/lib/python3.10/dist-packages (from paddleocr) (0.4.0)\n",
            "Collecting pyclipper (from paddleocr)\n",
            "  Downloading pyclipper-1.3.0.post5-cp310-cp310-manylinux_2_12_x86_64.manylinux2010_x86_64.whl.metadata (9.0 kB)\n",
            "Collecting lmdb (from paddleocr)\n",
            "  Downloading lmdb-1.5.1-cp310-cp310-manylinux_2_17_x86_64.manylinux2014_x86_64.whl.metadata (1.1 kB)\n",
            "Requirement already satisfied: tqdm in /usr/local/lib/python3.10/dist-packages (from paddleocr) (4.66.5)\n",
            "Requirement already satisfied: numpy<2.0 in /usr/local/lib/python3.10/dist-packages (from paddleocr) (1.26.4)\n",
            "Collecting rapidfuzz (from paddleocr)\n",
            "  Downloading rapidfuzz-3.10.0-cp310-cp310-manylinux_2_17_x86_64.manylinux2014_x86_64.whl.metadata (11 kB)\n",
            "Requirement already satisfied: opencv-python in /usr/local/lib/python3.10/dist-packages (from paddleocr) (4.10.0.84)\n",
            "Requirement already satisfied: opencv-contrib-python in /usr/local/lib/python3.10/dist-packages (from paddleocr) (4.10.0.84)\n",
            "Requirement already satisfied: cython in /usr/local/lib/python3.10/dist-packages (from paddleocr) (3.0.11)\n",
            "Requirement already satisfied: Pillow in /usr/local/lib/python3.10/dist-packages (from paddleocr) (10.4.0)\n",
            "Requirement already satisfied: pyyaml in /usr/local/lib/python3.10/dist-packages (from paddleocr) (6.0.2)\n",
            "Collecting python-docx (from paddleocr)\n",
            "  Downloading python_docx-1.1.2-py3-none-any.whl.metadata (2.0 kB)\n",
            "Requirement already satisfied: beautifulsoup4 in /usr/local/lib/python3.10/dist-packages (from paddleocr) (4.12.3)\n",
            "Requirement already satisfied: fonttools>=4.24.0 in /usr/local/lib/python3.10/dist-packages (from paddleocr) (4.54.1)\n",
            "Collecting fire>=0.3.0 (from paddleocr)\n",
            "  Downloading fire-0.7.0.tar.gz (87 kB)\n",
            "\u001b[2K     \u001b[90m━━━━━━━━━━━━━━━━━━━━━━━━━━━━━━━━━━━━━━━━\u001b[0m \u001b[32m87.2/87.2 kB\u001b[0m \u001b[31m3.9 MB/s\u001b[0m eta \u001b[36m0:00:00\u001b[0m\n",
            "\u001b[?25h  Preparing metadata (setup.py) ... \u001b[?25l\u001b[?25hdone\n",
            "Requirement already satisfied: requests in /usr/local/lib/python3.10/dist-packages (from paddleocr) (2.32.3)\n",
            "Requirement already satisfied: termcolor in /usr/local/lib/python3.10/dist-packages (from fire>=0.3.0->paddleocr) (2.4.0)\n",
            "Requirement already satisfied: soupsieve>1.2 in /usr/local/lib/python3.10/dist-packages (from beautifulsoup4->paddleocr) (2.6)\n",
            "Requirement already satisfied: six in /usr/local/lib/python3.10/dist-packages (from imgaug->paddleocr) (1.16.0)\n",
            "Requirement already satisfied: scipy in /usr/local/lib/python3.10/dist-packages (from imgaug->paddleocr) (1.13.1)\n",
            "Requirement already satisfied: matplotlib in /usr/local/lib/python3.10/dist-packages (from imgaug->paddleocr) (3.7.1)\n",
            "Requirement already satisfied: imageio in /usr/local/lib/python3.10/dist-packages (from imgaug->paddleocr) (2.35.1)\n",
            "Requirement already satisfied: networkx>=2.8 in /usr/local/lib/python3.10/dist-packages (from scikit-image->paddleocr) (3.3)\n",
            "Requirement already satisfied: tifffile>=2022.8.12 in /usr/local/lib/python3.10/dist-packages (from scikit-image->paddleocr) (2024.9.20)\n",
            "Requirement already satisfied: packaging>=21 in /usr/local/lib/python3.10/dist-packages (from scikit-image->paddleocr) (24.1)\n",
            "Requirement already satisfied: lazy-loader>=0.4 in /usr/local/lib/python3.10/dist-packages (from scikit-image->paddleocr) (0.4)\n",
            "Requirement already satisfied: lxml>=3.1.0 in /usr/local/lib/python3.10/dist-packages (from python-docx->paddleocr) (4.9.4)\n",
            "Requirement already satisfied: typing-extensions>=4.9.0 in /usr/local/lib/python3.10/dist-packages (from python-docx->paddleocr) (4.12.2)\n",
            "Requirement already satisfied: charset-normalizer<4,>=2 in /usr/local/lib/python3.10/dist-packages (from requests->paddleocr) (3.3.2)\n",
            "Requirement already satisfied: idna<4,>=2.5 in /usr/local/lib/python3.10/dist-packages (from requests->paddleocr) (3.10)\n",
            "Requirement already satisfied: urllib3<3,>=1.21.1 in /usr/local/lib/python3.10/dist-packages (from requests->paddleocr) (2.2.3)\n",
            "Requirement already satisfied: certifi>=2017.4.17 in /usr/local/lib/python3.10/dist-packages (from requests->paddleocr) (2024.8.30)\n",
            "Requirement already satisfied: contourpy>=1.0.1 in /usr/local/lib/python3.10/dist-packages (from matplotlib->imgaug->paddleocr) (1.3.0)\n",
            "Requirement already satisfied: cycler>=0.10 in /usr/local/lib/python3.10/dist-packages (from matplotlib->imgaug->paddleocr) (0.12.1)\n",
            "Requirement already satisfied: kiwisolver>=1.0.1 in /usr/local/lib/python3.10/dist-packages (from matplotlib->imgaug->paddleocr) (1.4.7)\n",
            "Requirement already satisfied: pyparsing>=2.3.1 in /usr/local/lib/python3.10/dist-packages (from matplotlib->imgaug->paddleocr) (3.1.4)\n",
            "Requirement already satisfied: python-dateutil>=2.7 in /usr/local/lib/python3.10/dist-packages (from matplotlib->imgaug->paddleocr) (2.8.2)\n",
            "Downloading paddleocr-2.8.1-py3-none-any.whl (407 kB)\n",
            "\u001b[2K   \u001b[90m━━━━━━━━━━━━━━━━━━━━━━━━━━━━━━━━━━━━━━━━\u001b[0m \u001b[32m407.5/407.5 kB\u001b[0m \u001b[31m11.1 MB/s\u001b[0m eta \u001b[36m0:00:00\u001b[0m\n",
            "\u001b[?25hDownloading lmdb-1.5.1-cp310-cp310-manylinux_2_17_x86_64.manylinux2014_x86_64.whl (294 kB)\n",
            "\u001b[2K   \u001b[90m━━━━━━━━━━━━━━━━━━━━━━━━━━━━━━━━━━━━━━━━\u001b[0m \u001b[32m294.9/294.9 kB\u001b[0m \u001b[31m19.1 MB/s\u001b[0m eta \u001b[36m0:00:00\u001b[0m\n",
            "\u001b[?25hDownloading pyclipper-1.3.0.post5-cp310-cp310-manylinux_2_12_x86_64.manylinux2010_x86_64.whl (908 kB)\n",
            "\u001b[2K   \u001b[90m━━━━━━━━━━━━━━━━━━━━━━━━━━━━━━━━━━━━━━━━\u001b[0m \u001b[32m908.3/908.3 kB\u001b[0m \u001b[31m30.1 MB/s\u001b[0m eta \u001b[36m0:00:00\u001b[0m\n",
            "\u001b[?25hDownloading python_docx-1.1.2-py3-none-any.whl (244 kB)\n",
            "\u001b[2K   \u001b[90m━━━━━━━━━━━━━━━━━━━━━━━━━━━━━━━━━━━━━━━━\u001b[0m \u001b[32m244.3/244.3 kB\u001b[0m \u001b[31m14.9 MB/s\u001b[0m eta \u001b[36m0:00:00\u001b[0m\n",
            "\u001b[?25hDownloading rapidfuzz-3.10.0-cp310-cp310-manylinux_2_17_x86_64.manylinux2014_x86_64.whl (3.1 MB)\n",
            "\u001b[2K   \u001b[90m━━━━━━━━━━━━━━━━━━━━━━━━━━━━━━━━━━━━━━━━\u001b[0m \u001b[32m3.1/3.1 MB\u001b[0m \u001b[31m72.8 MB/s\u001b[0m eta \u001b[36m0:00:00\u001b[0m\n",
            "\u001b[?25hBuilding wheels for collected packages: fire\n",
            "  Building wheel for fire (setup.py) ... \u001b[?25l\u001b[?25hdone\n",
            "  Created wheel for fire: filename=fire-0.7.0-py3-none-any.whl size=114250 sha256=15be4a16807766d3eadd19003c9ff25aeb78c586ecba8670b87b343378529455\n",
            "  Stored in directory: /root/.cache/pip/wheels/19/39/2f/2d3cadc408a8804103f1c34ddd4b9f6a93497b11fa96fe738e\n",
            "Successfully built fire\n",
            "Installing collected packages: pyclipper, lmdb, rapidfuzz, python-docx, fire, paddleocr\n",
            "Successfully installed fire-0.7.0 lmdb-1.5.1 paddleocr-2.8.1 pyclipper-1.3.0.post5 python-docx-1.1.2 rapidfuzz-3.10.0\n"
          ]
        }
      ]
    },
    {
      "cell_type": "code",
      "source": [
        "!pip install opencv-python-headless"
      ],
      "metadata": {
        "colab": {
          "base_uri": "https://localhost:8080/"
        },
        "id": "fzYe9AUrKIrO",
        "outputId": "87ea1cc6-cc2f-4ccd-8646-7acacc1be9d7"
      },
      "execution_count": null,
      "outputs": [
        {
          "output_type": "stream",
          "name": "stdout",
          "text": [
            "Requirement already satisfied: opencv-python-headless in /usr/local/lib/python3.10/dist-packages (4.10.0.84)\n",
            "Requirement already satisfied: numpy>=1.21.2 in /usr/local/lib/python3.10/dist-packages (from opencv-python-headless) (1.26.4)\n"
          ]
        }
      ]
    },
    {
      "cell_type": "code",
      "source": [
        "import os\n",
        "\n",
        "image_folder = '/content/drive/MyDrive/idp_bootcamp/week_1/Week1Assignment-output'\n",
        "\n",
        "image_files = sorted([os.path.join(image_folder, f) for f in os.listdir(image_folder) if f.endswith('.png')])\n",
        "\n",
        "output_folder = '/content/drive/MyDrive/idp_bootcamp/week_1/Week1Assignment-OcrResults-text'\n",
        "if not os.path.exists(output_folder):\n",
        "    os.makedirs(output_folder)\n"
      ],
      "metadata": {
        "id": "IhJH7c2vKRPx"
      },
      "execution_count": null,
      "outputs": []
    },
    {
      "cell_type": "code",
      "source": [
        "from paddleocr import PaddleOCR\n",
        "import cv2\n",
        "\n",
        "ocr = PaddleOCR(use_angle_cls=True, lang='en')\n",
        "\n",
        "def extract_text_and_classify(image_path):\n",
        "    img = cv2.imread(image_path)\n",
        "\n",
        "    ocr_result = ocr.ocr(image_path)\n",
        "\n",
        "    extracted_text = \"\"\n",
        "    for line in ocr_result[0]:\n",
        "        extracted_text += line[1][0] + \"\\n\"\n",
        "\n",
        "    has_paragraph = False\n",
        "    has_table = False\n",
        "    has_graph = False\n",
        "\n",
        "    num_lines = len(ocr_result[0])\n",
        "\n",
        "    if num_lines > 10:\n",
        "        has_paragraph = True\n",
        "\n",
        "    y_coords = [line[0][0][1] for line in ocr_result[0]]\n",
        "    if len(set([round(y) for y in y_coords])) < num_lines * 0.6:\n",
        "        has_table = True\n",
        "\n",
        "    if num_lines < 5:\n",
        "        has_graph = True\n",
        "\n",
        "    content_type = []\n",
        "    if has_paragraph:\n",
        "        content_type.append('Paragraph')\n",
        "    if has_table:\n",
        "        content_type.append('Table')\n",
        "    if has_graph:\n",
        "        content_type.append('Graph')\n",
        "\n",
        "    if not content_type:\n",
        "        content_type.append('Unclassified')\n",
        "\n",
        "    return extracted_text, content_type\n",
        "\n",
        "for img_path in image_files:\n",
        "    print(f\"Processing {img_path}...\")\n",
        "\n",
        "    text, content_type = extract_text_and_classify(img_path)\n",
        "\n",
        "    output_txt_path = os.path.join(output_folder, os.path.basename(img_path).replace('.png', '.txt'))\n",
        "    with open(output_txt_path, 'w') as f:\n",
        "        f.write(text)\n",
        "\n",
        "    print(f\"Page contains: {', '.join(content_type)}\")\n"
      ],
      "metadata": {
        "colab": {
          "base_uri": "https://localhost:8080/"
        },
        "id": "T6P2sMUhLM3q",
        "outputId": "2774fa5e-5840-465f-f055-5ee4c6b4594d"
      },
      "execution_count": null,
      "outputs": [
        {
          "output_type": "stream",
          "name": "stdout",
          "text": [
            "download https://paddleocr.bj.bcebos.com/PP-OCRv3/english/en_PP-OCRv3_det_infer.tar to /root/.paddleocr/whl/det/en/en_PP-OCRv3_det_infer/en_PP-OCRv3_det_infer.tar\n"
          ]
        },
        {
          "output_type": "stream",
          "name": "stderr",
          "text": [
            "100%|██████████| 4.00M/4.00M [00:16<00:00, 237kiB/s] \n"
          ]
        },
        {
          "output_type": "stream",
          "name": "stdout",
          "text": [
            "download https://paddleocr.bj.bcebos.com/PP-OCRv4/english/en_PP-OCRv4_rec_infer.tar to /root/.paddleocr/whl/rec/en/en_PP-OCRv4_rec_infer/en_PP-OCRv4_rec_infer.tar\n"
          ]
        },
        {
          "output_type": "stream",
          "name": "stderr",
          "text": [
            "100%|██████████| 10.2M/10.2M [00:19<00:00, 531kiB/s] \n"
          ]
        },
        {
          "output_type": "stream",
          "name": "stdout",
          "text": [
            "download https://paddleocr.bj.bcebos.com/dygraph_v2.0/ch/ch_ppocr_mobile_v2.0_cls_infer.tar to /root/.paddleocr/whl/cls/ch_ppocr_mobile_v2.0_cls_infer/ch_ppocr_mobile_v2.0_cls_infer.tar\n"
          ]
        },
        {
          "output_type": "stream",
          "name": "stderr",
          "text": [
            "100%|██████████| 2.19M/2.19M [00:15<00:00, 140kiB/s]"
          ]
        },
        {
          "output_type": "stream",
          "name": "stdout",
          "text": [
            "[2024/10/02 17:01:17] ppocr DEBUG: Namespace(help='==SUPPRESS==', use_gpu=False, use_xpu=False, use_npu=False, use_mlu=False, ir_optim=True, use_tensorrt=False, min_subgraph_size=15, precision='fp32', gpu_mem=500, gpu_id=0, image_dir=None, page_num=0, det_algorithm='DB', det_model_dir='/root/.paddleocr/whl/det/en/en_PP-OCRv3_det_infer', det_limit_side_len=960, det_limit_type='max', det_box_type='quad', det_db_thresh=0.3, det_db_box_thresh=0.6, det_db_unclip_ratio=1.5, max_batch_size=10, use_dilation=False, det_db_score_mode='fast', det_east_score_thresh=0.8, det_east_cover_thresh=0.1, det_east_nms_thresh=0.2, det_sast_score_thresh=0.5, det_sast_nms_thresh=0.2, det_pse_thresh=0, det_pse_box_thresh=0.85, det_pse_min_area=16, det_pse_scale=1, scales=[8, 16, 32], alpha=1.0, beta=1.0, fourier_degree=5, rec_algorithm='SVTR_LCNet', rec_model_dir='/root/.paddleocr/whl/rec/en/en_PP-OCRv4_rec_infer', rec_image_inverse=True, rec_image_shape='3, 48, 320', rec_batch_num=6, max_text_length=25, rec_char_dict_path='/usr/local/lib/python3.10/dist-packages/paddleocr/ppocr/utils/en_dict.txt', use_space_char=True, vis_font_path='./doc/fonts/simfang.ttf', drop_score=0.5, e2e_algorithm='PGNet', e2e_model_dir=None, e2e_limit_side_len=768, e2e_limit_type='max', e2e_pgnet_score_thresh=0.5, e2e_char_dict_path='./ppocr/utils/ic15_dict.txt', e2e_pgnet_valid_set='totaltext', e2e_pgnet_mode='fast', use_angle_cls=True, cls_model_dir='/root/.paddleocr/whl/cls/ch_ppocr_mobile_v2.0_cls_infer', cls_image_shape='3, 48, 192', label_list=['0', '180'], cls_batch_num=6, cls_thresh=0.9, enable_mkldnn=False, cpu_threads=10, use_pdserving=False, warmup=False, sr_model_dir=None, sr_image_shape='3, 32, 128', sr_batch_num=1, draw_img_save_dir='./inference_results', save_crop_res=False, crop_res_save_dir='./output', use_mp=False, total_process_num=1, process_id=0, benchmark=False, save_log_path='./log_output/', show_log=True, use_onnx=False, return_word_box=False, output='./output', table_max_len=488, table_algorithm='TableAttn', table_model_dir=None, merge_no_span_structure=True, table_char_dict_path=None, layout_model_dir=None, layout_dict_path=None, layout_score_threshold=0.5, layout_nms_threshold=0.5, kie_algorithm='LayoutXLM', ser_model_dir=None, re_model_dir=None, use_visual_backbone=True, ser_dict_path='../train_data/XFUND/class_list_xfun.txt', ocr_order_method=None, mode='structure', image_orientation=False, layout=True, table=True, ocr=True, recovery=False, use_pdf2docx_api=False, invert=False, binarize=False, alphacolor=(255, 255, 255), lang='en', det=True, rec=True, type='ocr', savefile=False, ocr_version='PP-OCRv4', structure_version='PP-StructureV2')\n"
          ]
        },
        {
          "output_type": "stream",
          "name": "stderr",
          "text": [
            "\n"
          ]
        },
        {
          "output_type": "stream",
          "name": "stdout",
          "text": [
            "Processing /content/drive/MyDrive/idp_bootcamp/week_1/Week1Assignment-output/page_1.png...\n",
            "[2024/10/02 17:01:20] ppocr DEBUG: dt_boxes num : 103, elapsed : 0.6915152072906494\n",
            "[2024/10/02 17:01:20] ppocr DEBUG: cls num  : 103, elapsed : 0.4268968105316162\n",
            "[2024/10/02 17:01:47] ppocr DEBUG: rec_res num  : 103, elapsed : 26.744236707687378\n",
            "Page contains: Paragraph\n",
            "Processing /content/drive/MyDrive/idp_bootcamp/week_1/Week1Assignment-output/page_10.png...\n",
            "[2024/10/02 17:01:47] ppocr DEBUG: dt_boxes num : 69, elapsed : 0.27985048294067383\n",
            "[2024/10/02 17:01:47] ppocr DEBUG: cls num  : 69, elapsed : 0.24043893814086914\n",
            "[2024/10/02 17:01:59] ppocr DEBUG: rec_res num  : 69, elapsed : 12.047266006469727\n",
            "Page contains: Paragraph\n",
            "Processing /content/drive/MyDrive/idp_bootcamp/week_1/Week1Assignment-output/page_11.png...\n",
            "[2024/10/02 17:02:00] ppocr DEBUG: dt_boxes num : 43, elapsed : 0.37629127502441406\n",
            "[2024/10/02 17:02:00] ppocr DEBUG: cls num  : 43, elapsed : 0.14128541946411133\n",
            "[2024/10/02 17:02:04] ppocr DEBUG: rec_res num  : 43, elapsed : 3.9830727577209473\n",
            "Page contains: Paragraph\n",
            "Processing /content/drive/MyDrive/idp_bootcamp/week_1/Week1Assignment-output/page_12.png...\n",
            "[2024/10/02 17:02:04] ppocr DEBUG: dt_boxes num : 14, elapsed : 0.16668438911437988\n",
            "[2024/10/02 17:02:04] ppocr DEBUG: cls num  : 14, elapsed : 0.07377815246582031\n",
            "[2024/10/02 17:02:07] ppocr DEBUG: rec_res num  : 14, elapsed : 2.2453131675720215\n",
            "Page contains: Paragraph\n",
            "Processing /content/drive/MyDrive/idp_bootcamp/week_1/Week1Assignment-output/page_2.png...\n",
            "[2024/10/02 17:02:07] ppocr DEBUG: dt_boxes num : 103, elapsed : 0.20193243026733398\n",
            "[2024/10/02 17:02:07] ppocr DEBUG: cls num  : 103, elapsed : 0.29369020462036133\n",
            "[2024/10/02 17:02:24] ppocr DEBUG: rec_res num  : 103, elapsed : 16.637707948684692\n",
            "Page contains: Paragraph\n",
            "Processing /content/drive/MyDrive/idp_bootcamp/week_1/Week1Assignment-output/page_3.png...\n",
            "[2024/10/02 17:02:24] ppocr DEBUG: dt_boxes num : 105, elapsed : 0.27707362174987793\n",
            "[2024/10/02 17:02:24] ppocr DEBUG: cls num  : 105, elapsed : 0.32865166664123535\n",
            "[2024/10/02 17:02:39] ppocr DEBUG: rec_res num  : 105, elapsed : 14.657601594924927\n",
            "Page contains: Paragraph\n",
            "Processing /content/drive/MyDrive/idp_bootcamp/week_1/Week1Assignment-output/page_4.png...\n",
            "[2024/10/02 17:02:39] ppocr DEBUG: dt_boxes num : 99, elapsed : 0.2794017791748047\n",
            "[2024/10/02 17:02:40] ppocr DEBUG: cls num  : 99, elapsed : 0.3314218521118164\n",
            "[2024/10/02 17:02:54] ppocr DEBUG: rec_res num  : 99, elapsed : 13.871657609939575\n",
            "Page contains: Paragraph\n",
            "Processing /content/drive/MyDrive/idp_bootcamp/week_1/Week1Assignment-output/page_5.png...\n",
            "[2024/10/02 17:02:54] ppocr DEBUG: dt_boxes num : 112, elapsed : 0.284273624420166\n",
            "[2024/10/02 17:02:54] ppocr DEBUG: cls num  : 112, elapsed : 0.40180373191833496\n",
            "[2024/10/02 17:03:08] ppocr DEBUG: rec_res num  : 112, elapsed : 13.201574325561523\n",
            "Page contains: Paragraph\n",
            "Processing /content/drive/MyDrive/idp_bootcamp/week_1/Week1Assignment-output/page_6.png...\n",
            "[2024/10/02 17:03:08] ppocr DEBUG: dt_boxes num : 103, elapsed : 0.26410388946533203\n",
            "[2024/10/02 17:03:08] ppocr DEBUG: cls num  : 103, elapsed : 0.3352317810058594\n",
            "[2024/10/02 17:03:24] ppocr DEBUG: rec_res num  : 103, elapsed : 15.789844036102295\n",
            "Page contains: Paragraph\n",
            "Processing /content/drive/MyDrive/idp_bootcamp/week_1/Week1Assignment-output/page_7.png...\n",
            "[2024/10/02 17:03:24] ppocr DEBUG: dt_boxes num : 160, elapsed : 0.29032158851623535\n",
            "[2024/10/02 17:03:25] ppocr DEBUG: cls num  : 160, elapsed : 0.4960505962371826\n",
            "[2024/10/02 17:03:40] ppocr DEBUG: rec_res num  : 160, elapsed : 15.287882566452026\n",
            "Page contains: Paragraph\n",
            "Processing /content/drive/MyDrive/idp_bootcamp/week_1/Week1Assignment-output/page_8.png...\n",
            "[2024/10/02 17:03:40] ppocr DEBUG: dt_boxes num : 107, elapsed : 0.2624084949493408\n",
            "[2024/10/02 17:03:41] ppocr DEBUG: cls num  : 107, elapsed : 0.34551429748535156\n",
            "[2024/10/02 17:03:53] ppocr DEBUG: rec_res num  : 107, elapsed : 12.588525295257568\n",
            "Page contains: Paragraph\n",
            "Processing /content/drive/MyDrive/idp_bootcamp/week_1/Week1Assignment-output/page_9.png...\n",
            "[2024/10/02 17:03:54] ppocr DEBUG: dt_boxes num : 114, elapsed : 0.28191518783569336\n",
            "[2024/10/02 17:03:54] ppocr DEBUG: cls num  : 114, elapsed : 0.316469669342041\n",
            "[2024/10/02 17:04:10] ppocr DEBUG: rec_res num  : 114, elapsed : 15.578226566314697\n",
            "Page contains: Paragraph\n"
          ]
        }
      ]
    },
    {
      "cell_type": "code",
      "source": [
        "!pip install matplotlib"
      ],
      "metadata": {
        "colab": {
          "base_uri": "https://localhost:8080/"
        },
        "id": "tftLNAReMZob",
        "outputId": "07f905e6-8c1a-478a-c345-c700904f8156"
      },
      "execution_count": null,
      "outputs": [
        {
          "output_type": "stream",
          "name": "stdout",
          "text": [
            "Requirement already satisfied: matplotlib in /usr/local/lib/python3.10/dist-packages (3.7.1)\n",
            "Requirement already satisfied: contourpy>=1.0.1 in /usr/local/lib/python3.10/dist-packages (from matplotlib) (1.3.0)\n",
            "Requirement already satisfied: cycler>=0.10 in /usr/local/lib/python3.10/dist-packages (from matplotlib) (0.12.1)\n",
            "Requirement already satisfied: fonttools>=4.22.0 in /usr/local/lib/python3.10/dist-packages (from matplotlib) (4.54.1)\n",
            "Requirement already satisfied: kiwisolver>=1.0.1 in /usr/local/lib/python3.10/dist-packages (from matplotlib) (1.4.7)\n",
            "Requirement already satisfied: numpy>=1.20 in /usr/local/lib/python3.10/dist-packages (from matplotlib) (1.26.4)\n",
            "Requirement already satisfied: packaging>=20.0 in /usr/local/lib/python3.10/dist-packages (from matplotlib) (24.1)\n",
            "Requirement already satisfied: pillow>=6.2.0 in /usr/local/lib/python3.10/dist-packages (from matplotlib) (10.4.0)\n",
            "Requirement already satisfied: pyparsing>=2.3.1 in /usr/local/lib/python3.10/dist-packages (from matplotlib) (3.1.4)\n",
            "Requirement already satisfied: python-dateutil>=2.7 in /usr/local/lib/python3.10/dist-packages (from matplotlib) (2.8.2)\n",
            "Requirement already satisfied: six>=1.5 in /usr/local/lib/python3.10/dist-packages (from python-dateutil>=2.7->matplotlib) (1.16.0)\n"
          ]
        }
      ]
    },
    {
      "cell_type": "code",
      "source": [
        "import os\n",
        "\n",
        "image_folder = '/content/drive/MyDrive/idp_bootcamp/week_1/Week1Assignment-output'\n",
        "\n",
        "image_files = sorted([os.path.join(image_folder, f) for f in os.listdir(image_folder) if f.endswith('.png')])\n",
        "\n",
        "output_folder = '/content/drive/MyDrive/idp_bootcamp/week_1/Week1Assignment-OcrResults-structure'\n",
        "if not os.path.exists(output_folder):\n",
        "    os.makedirs(output_folder)\n"
      ],
      "metadata": {
        "id": "jN3gzMSyMoqg"
      },
      "execution_count": null,
      "outputs": []
    },
    {
      "cell_type": "code",
      "source": [
        "from paddleocr import PaddleOCR, draw_ocr\n",
        "\n",
        "ocr = PaddleOCR(use_angle_cls=True, lang='en')\n",
        "\n",
        "table_recognizer = PaddleOCR(structure_version='PP-Structure', lang='en')\n"
      ],
      "metadata": {
        "colab": {
          "base_uri": "https://localhost:8080/"
        },
        "id": "ilmEXgMANETG",
        "outputId": "4402d6c3-a944-4fc7-b834-6172bd6f6708"
      },
      "execution_count": null,
      "outputs": [
        {
          "output_type": "stream",
          "name": "stdout",
          "text": [
            "[2024/10/02 17:08:24] ppocr DEBUG: Namespace(help='==SUPPRESS==', use_gpu=False, use_xpu=False, use_npu=False, use_mlu=False, ir_optim=True, use_tensorrt=False, min_subgraph_size=15, precision='fp32', gpu_mem=500, gpu_id=0, image_dir=None, page_num=0, det_algorithm='DB', det_model_dir='/root/.paddleocr/whl/det/en/en_PP-OCRv3_det_infer', det_limit_side_len=960, det_limit_type='max', det_box_type='quad', det_db_thresh=0.3, det_db_box_thresh=0.6, det_db_unclip_ratio=1.5, max_batch_size=10, use_dilation=False, det_db_score_mode='fast', det_east_score_thresh=0.8, det_east_cover_thresh=0.1, det_east_nms_thresh=0.2, det_sast_score_thresh=0.5, det_sast_nms_thresh=0.2, det_pse_thresh=0, det_pse_box_thresh=0.85, det_pse_min_area=16, det_pse_scale=1, scales=[8, 16, 32], alpha=1.0, beta=1.0, fourier_degree=5, rec_algorithm='SVTR_LCNet', rec_model_dir='/root/.paddleocr/whl/rec/en/en_PP-OCRv4_rec_infer', rec_image_inverse=True, rec_image_shape='3, 48, 320', rec_batch_num=6, max_text_length=25, rec_char_dict_path='/usr/local/lib/python3.10/dist-packages/paddleocr/ppocr/utils/en_dict.txt', use_space_char=True, vis_font_path='./doc/fonts/simfang.ttf', drop_score=0.5, e2e_algorithm='PGNet', e2e_model_dir=None, e2e_limit_side_len=768, e2e_limit_type='max', e2e_pgnet_score_thresh=0.5, e2e_char_dict_path='./ppocr/utils/ic15_dict.txt', e2e_pgnet_valid_set='totaltext', e2e_pgnet_mode='fast', use_angle_cls=True, cls_model_dir='/root/.paddleocr/whl/cls/ch_ppocr_mobile_v2.0_cls_infer', cls_image_shape='3, 48, 192', label_list=['0', '180'], cls_batch_num=6, cls_thresh=0.9, enable_mkldnn=False, cpu_threads=10, use_pdserving=False, warmup=False, sr_model_dir=None, sr_image_shape='3, 32, 128', sr_batch_num=1, draw_img_save_dir='./inference_results', save_crop_res=False, crop_res_save_dir='./output', use_mp=False, total_process_num=1, process_id=0, benchmark=False, save_log_path='./log_output/', show_log=True, use_onnx=False, return_word_box=False, output='./output', table_max_len=488, table_algorithm='TableAttn', table_model_dir=None, merge_no_span_structure=True, table_char_dict_path=None, layout_model_dir=None, layout_dict_path=None, layout_score_threshold=0.5, layout_nms_threshold=0.5, kie_algorithm='LayoutXLM', ser_model_dir=None, re_model_dir=None, use_visual_backbone=True, ser_dict_path='../train_data/XFUND/class_list_xfun.txt', ocr_order_method=None, mode='structure', image_orientation=False, layout=True, table=True, ocr=True, recovery=False, use_pdf2docx_api=False, invert=False, binarize=False, alphacolor=(255, 255, 255), lang='en', det=True, rec=True, type='ocr', savefile=False, ocr_version='PP-OCRv4', structure_version='PP-StructureV2')\n",
            "[2024/10/02 17:08:26] ppocr DEBUG: Namespace(help='==SUPPRESS==', use_gpu=False, use_xpu=False, use_npu=False, use_mlu=False, ir_optim=True, use_tensorrt=False, min_subgraph_size=15, precision='fp32', gpu_mem=500, gpu_id=0, image_dir=None, page_num=0, det_algorithm='DB', det_model_dir='/root/.paddleocr/whl/det/en/en_PP-OCRv3_det_infer', det_limit_side_len=960, det_limit_type='max', det_box_type='quad', det_db_thresh=0.3, det_db_box_thresh=0.6, det_db_unclip_ratio=1.5, max_batch_size=10, use_dilation=False, det_db_score_mode='fast', det_east_score_thresh=0.8, det_east_cover_thresh=0.1, det_east_nms_thresh=0.2, det_sast_score_thresh=0.5, det_sast_nms_thresh=0.2, det_pse_thresh=0, det_pse_box_thresh=0.85, det_pse_min_area=16, det_pse_scale=1, scales=[8, 16, 32], alpha=1.0, beta=1.0, fourier_degree=5, rec_algorithm='SVTR_LCNet', rec_model_dir='/root/.paddleocr/whl/rec/en/en_PP-OCRv4_rec_infer', rec_image_inverse=True, rec_image_shape='3, 48, 320', rec_batch_num=6, max_text_length=25, rec_char_dict_path='/usr/local/lib/python3.10/dist-packages/paddleocr/ppocr/utils/en_dict.txt', use_space_char=True, vis_font_path='./doc/fonts/simfang.ttf', drop_score=0.5, e2e_algorithm='PGNet', e2e_model_dir=None, e2e_limit_side_len=768, e2e_limit_type='max', e2e_pgnet_score_thresh=0.5, e2e_char_dict_path='./ppocr/utils/ic15_dict.txt', e2e_pgnet_valid_set='totaltext', e2e_pgnet_mode='fast', use_angle_cls=False, cls_model_dir='/root/.paddleocr/whl/cls/ch_ppocr_mobile_v2.0_cls_infer', cls_image_shape='3, 48, 192', label_list=['0', '180'], cls_batch_num=6, cls_thresh=0.9, enable_mkldnn=False, cpu_threads=10, use_pdserving=False, warmup=False, sr_model_dir=None, sr_image_shape='3, 32, 128', sr_batch_num=1, draw_img_save_dir='./inference_results', save_crop_res=False, crop_res_save_dir='./output', use_mp=False, total_process_num=1, process_id=0, benchmark=False, save_log_path='./log_output/', show_log=True, use_onnx=False, return_word_box=False, output='./output', table_max_len=488, table_algorithm='TableAttn', table_model_dir=None, merge_no_span_structure=True, table_char_dict_path=None, layout_model_dir=None, layout_dict_path=None, layout_score_threshold=0.5, layout_nms_threshold=0.5, kie_algorithm='LayoutXLM', ser_model_dir=None, re_model_dir=None, use_visual_backbone=True, ser_dict_path='../train_data/XFUND/class_list_xfun.txt', ocr_order_method=None, mode='structure', image_orientation=False, layout=True, table=True, ocr=True, recovery=False, use_pdf2docx_api=False, invert=False, binarize=False, alphacolor=(255, 255, 255), lang='en', det=True, rec=True, type='ocr', savefile=False, ocr_version='PP-OCRv4', structure_version='PP-Structure')\n"
          ]
        }
      ]
    },
    {
      "cell_type": "code",
      "source": [
        "import cv2\n",
        "from paddleocr import PPStructure, save_structure_res\n",
        "\n",
        "def extract_text_and_structure(image_path):\n",
        "    img = cv2.imread(image_path)\n",
        "\n",
        "    ocr_result = ocr.ocr(image_path)\n",
        "\n",
        "    extracted_text = \"\"\n",
        "    for line in ocr_result[0]:\n",
        "        extracted_text += line[1][0] + \"\\n\"\n",
        "\n",
        "    has_paragraph = False\n",
        "    has_table = False\n",
        "    has_graph = False\n",
        "\n",
        "    num_lines = len(ocr_result[0])\n",
        "\n",
        "    if num_lines > 10:\n",
        "        has_paragraph = True\n",
        "\n",
        "    if num_lines < 5:\n",
        "        has_graph = True\n",
        "\n",
        "    structure_result = table_recognizer.ocr(image_path, det=True, rec=False, cls=True)\n",
        "\n",
        "    if structure_result and isinstance(structure_result, list) and len(structure_result) > 0:\n",
        "        for item in structure_result:\n",
        "            if 'html' in item:\n",
        "                has_table = True\n",
        "                table_output_path = os.path.join(output_folder, os.path.basename(image_path).replace('.png', '_table.html'))\n",
        "                save_structure_res(item['html'], table_output_path)\n",
        "\n",
        "    content_type = []\n",
        "    if has_paragraph:\n",
        "        content_type.append('Paragraph')\n",
        "    if has_table:\n",
        "        content_type.append('Table')\n",
        "    if has_graph:\n",
        "        content_type.append('Graph')\n",
        "\n",
        "    if not content_type:\n",
        "        content_type.append('Unclassified')\n",
        "\n",
        "    return extracted_text, content_type\n",
        "\n",
        "for img_path in image_files:\n",
        "    print(f\"Processing {img_path}...\")\n",
        "\n",
        "    text, content_type = extract_text_and_structure(img_path)\n",
        "\n",
        "    output_txt_path = os.path.join(output_folder, os.path.basename(img_path).replace('.png', '.txt'))\n",
        "    with open(output_txt_path, 'w') as f:\n",
        "        f.write(text)\n",
        "\n",
        "    print(f\"Page contains: {', '.join(content_type)}\")\n"
      ],
      "metadata": {
        "colab": {
          "base_uri": "https://localhost:8080/"
        },
        "id": "J5-2c3_zNKdq",
        "outputId": "d1082e4c-6446-47c6-f573-309e35eb3805"
      },
      "execution_count": null,
      "outputs": [
        {
          "output_type": "stream",
          "name": "stdout",
          "text": [
            "Processing /content/drive/MyDrive/idp_bootcamp/week_1/Week1Assignment-output/page_1.png...\n",
            "[2024/10/02 17:10:33] ppocr DEBUG: dt_boxes num : 103, elapsed : 0.20562314987182617\n",
            "[2024/10/02 17:10:33] ppocr DEBUG: cls num  : 103, elapsed : 0.2995734214782715\n",
            "[2024/10/02 17:10:47] ppocr DEBUG: rec_res num  : 103, elapsed : 13.23123574256897\n",
            "[2024/10/02 17:10:47] ppocr WARNING: Since the angle classifier is not initialized, it will not be used during the forward process\n",
            "Page contains: Paragraph\n",
            "Processing /content/drive/MyDrive/idp_bootcamp/week_1/Week1Assignment-output/page_10.png...\n",
            "[2024/10/02 17:10:47] ppocr DEBUG: dt_boxes num : 69, elapsed : 0.20624375343322754\n",
            "[2024/10/02 17:10:47] ppocr DEBUG: cls num  : 69, elapsed : 0.230726957321167\n",
            "[2024/10/02 17:10:58] ppocr DEBUG: rec_res num  : 69, elapsed : 10.994694709777832\n",
            "[2024/10/02 17:10:58] ppocr WARNING: Since the angle classifier is not initialized, it will not be used during the forward process\n",
            "Page contains: Paragraph\n",
            "Processing /content/drive/MyDrive/idp_bootcamp/week_1/Week1Assignment-output/page_11.png...\n",
            "[2024/10/02 17:10:59] ppocr DEBUG: dt_boxes num : 43, elapsed : 0.21509075164794922\n",
            "[2024/10/02 17:10:59] ppocr DEBUG: cls num  : 43, elapsed : 0.13972878456115723\n",
            "[2024/10/02 17:11:03] ppocr DEBUG: rec_res num  : 43, elapsed : 4.074159383773804\n",
            "[2024/10/02 17:11:03] ppocr WARNING: Since the angle classifier is not initialized, it will not be used during the forward process\n",
            "Page contains: Paragraph\n",
            "Processing /content/drive/MyDrive/idp_bootcamp/week_1/Week1Assignment-output/page_12.png...\n",
            "[2024/10/02 17:11:04] ppocr DEBUG: dt_boxes num : 14, elapsed : 0.16912364959716797\n",
            "[2024/10/02 17:11:04] ppocr DEBUG: cls num  : 14, elapsed : 0.0885922908782959\n",
            "[2024/10/02 17:11:06] ppocr DEBUG: rec_res num  : 14, elapsed : 2.258394718170166\n",
            "[2024/10/02 17:11:06] ppocr WARNING: Since the angle classifier is not initialized, it will not be used during the forward process\n",
            "Page contains: Paragraph\n",
            "Processing /content/drive/MyDrive/idp_bootcamp/week_1/Week1Assignment-output/page_2.png...\n",
            "[2024/10/02 17:11:06] ppocr DEBUG: dt_boxes num : 103, elapsed : 0.20023512840270996\n",
            "[2024/10/02 17:11:07] ppocr DEBUG: cls num  : 103, elapsed : 0.297421932220459\n",
            "[2024/10/02 17:11:23] ppocr DEBUG: rec_res num  : 103, elapsed : 16.75499725341797\n",
            "[2024/10/02 17:11:23] ppocr WARNING: Since the angle classifier is not initialized, it will not be used during the forward process\n",
            "Page contains: Paragraph\n",
            "Processing /content/drive/MyDrive/idp_bootcamp/week_1/Week1Assignment-output/page_3.png...\n",
            "[2024/10/02 17:11:24] ppocr DEBUG: dt_boxes num : 105, elapsed : 0.2060987949371338\n",
            "[2024/10/02 17:11:24] ppocr DEBUG: cls num  : 105, elapsed : 0.45871424674987793\n",
            "[2024/10/02 17:11:39] ppocr DEBUG: rec_res num  : 105, elapsed : 14.433849096298218\n",
            "[2024/10/02 17:11:39] ppocr WARNING: Since the angle classifier is not initialized, it will not be used during the forward process\n",
            "Page contains: Paragraph\n",
            "Processing /content/drive/MyDrive/idp_bootcamp/week_1/Week1Assignment-output/page_4.png...\n",
            "[2024/10/02 17:11:39] ppocr DEBUG: dt_boxes num : 99, elapsed : 0.25928807258605957\n",
            "[2024/10/02 17:11:40] ppocr DEBUG: cls num  : 99, elapsed : 0.47592949867248535\n",
            "[2024/10/02 17:11:54] ppocr DEBUG: rec_res num  : 99, elapsed : 13.570797204971313\n",
            "[2024/10/02 17:11:54] ppocr WARNING: Since the angle classifier is not initialized, it will not be used during the forward process\n",
            "Page contains: Paragraph\n",
            "Processing /content/drive/MyDrive/idp_bootcamp/week_1/Week1Assignment-output/page_5.png...\n",
            "[2024/10/02 17:11:54] ppocr DEBUG: dt_boxes num : 112, elapsed : 0.22498297691345215\n",
            "[2024/10/02 17:11:54] ppocr DEBUG: cls num  : 112, elapsed : 0.38425183296203613\n",
            "[2024/10/02 17:12:08] ppocr DEBUG: rec_res num  : 112, elapsed : 13.265457153320312\n",
            "[2024/10/02 17:12:08] ppocr WARNING: Since the angle classifier is not initialized, it will not be used during the forward process\n",
            "Page contains: Paragraph\n",
            "Processing /content/drive/MyDrive/idp_bootcamp/week_1/Week1Assignment-output/page_6.png...\n",
            "[2024/10/02 17:12:08] ppocr DEBUG: dt_boxes num : 103, elapsed : 0.20623040199279785\n",
            "[2024/10/02 17:12:09] ppocr DEBUG: cls num  : 103, elapsed : 0.36522531509399414\n",
            "[2024/10/02 17:12:24] ppocr DEBUG: rec_res num  : 103, elapsed : 15.524579524993896\n",
            "[2024/10/02 17:12:24] ppocr WARNING: Since the angle classifier is not initialized, it will not be used during the forward process\n",
            "Page contains: Paragraph\n",
            "Processing /content/drive/MyDrive/idp_bootcamp/week_1/Week1Assignment-output/page_7.png...\n",
            "[2024/10/02 17:12:25] ppocr DEBUG: dt_boxes num : 160, elapsed : 0.35944199562072754\n",
            "[2024/10/02 17:12:26] ppocr DEBUG: cls num  : 160, elapsed : 0.7396371364593506\n",
            "[2024/10/02 17:12:41] ppocr DEBUG: rec_res num  : 160, elapsed : 15.172171592712402\n",
            "[2024/10/02 17:12:41] ppocr WARNING: Since the angle classifier is not initialized, it will not be used during the forward process\n",
            "Page contains: Paragraph\n",
            "Processing /content/drive/MyDrive/idp_bootcamp/week_1/Week1Assignment-output/page_8.png...\n",
            "[2024/10/02 17:12:42] ppocr DEBUG: dt_boxes num : 107, elapsed : 0.3404834270477295\n",
            "[2024/10/02 17:12:42] ppocr DEBUG: cls num  : 107, elapsed : 0.491286039352417\n",
            "[2024/10/02 17:12:54] ppocr DEBUG: rec_res num  : 107, elapsed : 11.761868476867676\n",
            "[2024/10/02 17:12:54] ppocr WARNING: Since the angle classifier is not initialized, it will not be used during the forward process\n",
            "Page contains: Paragraph\n",
            "Processing /content/drive/MyDrive/idp_bootcamp/week_1/Week1Assignment-output/page_9.png...\n",
            "[2024/10/02 17:12:55] ppocr DEBUG: dt_boxes num : 114, elapsed : 0.21054697036743164\n",
            "[2024/10/02 17:12:55] ppocr DEBUG: cls num  : 114, elapsed : 0.3973071575164795\n",
            "[2024/10/02 17:13:11] ppocr DEBUG: rec_res num  : 114, elapsed : 15.905771493911743\n",
            "[2024/10/02 17:13:11] ppocr WARNING: Since the angle classifier is not initialized, it will not be used during the forward process\n",
            "Page contains: Paragraph\n"
          ]
        }
      ]
    },
    {
      "cell_type": "code",
      "source": [
        "!pip install jsonlines"
      ],
      "metadata": {
        "colab": {
          "base_uri": "https://localhost:8080/"
        },
        "id": "17fnKOoyOeSP",
        "outputId": "8769db97-d672-4dd2-a981-2271070c2738"
      },
      "execution_count": null,
      "outputs": [
        {
          "output_type": "stream",
          "name": "stdout",
          "text": [
            "Collecting jsonlines\n",
            "  Downloading jsonlines-4.0.0-py3-none-any.whl.metadata (1.6 kB)\n",
            "Requirement already satisfied: attrs>=19.2.0 in /usr/local/lib/python3.10/dist-packages (from jsonlines) (24.2.0)\n",
            "Downloading jsonlines-4.0.0-py3-none-any.whl (8.7 kB)\n",
            "Installing collected packages: jsonlines\n",
            "Successfully installed jsonlines-4.0.0\n"
          ]
        }
      ]
    },
    {
      "cell_type": "code",
      "source": [
        "import os\n",
        "import json\n",
        "import cv2\n",
        "from paddleocr import PaddleOCR, draw_ocr, save_structure_res"
      ],
      "metadata": {
        "id": "QFpIDG2vOirF"
      },
      "execution_count": null,
      "outputs": []
    },
    {
      "cell_type": "code",
      "source": [
        "def extract_text_and_structure(image_path):\n",
        "    img = cv2.imread(image_path)\n",
        "\n",
        "    ocr_result = ocr.ocr(image_path)\n",
        "\n",
        "    extracted_text = \"\"\n",
        "    for line in ocr_result[0]:\n",
        "        extracted_text += line[1][0] + \"\\n\"\n",
        "\n",
        "    has_paragraph = False\n",
        "    has_table = False\n",
        "    has_graph = False\n",
        "\n",
        "    num_lines = len(ocr_result[0])\n",
        "\n",
        "    if num_lines > 10:\n",
        "        has_paragraph = True\n",
        "\n",
        "    if num_lines < 5:\n",
        "        has_graph = True\n",
        "\n",
        "    structure_result = table_recognizer.ocr(image_path, det=True, rec=False, cls=True)\n",
        "\n",
        "    table_data = []\n",
        "    if structure_result and isinstance(structure_result, list) and len(structure_result) > 0:\n",
        "        for item in structure_result:\n",
        "            if 'html' in item:\n",
        "                has_table = True\n",
        "                table_output_path = os.path.join(output_folder, os.path.basename(image_path).replace('.png', '_table.html'))\n",
        "                save_structure_res(item['html'], table_output_path)\n",
        "                table_data.append(item['html'])\n",
        "\n",
        "    content_type = []\n",
        "    if has_paragraph:\n",
        "        content_type.append('Paragraph')\n",
        "    if has_table:\n",
        "        content_type.append('Table')\n",
        "    if has_graph:\n",
        "        content_type.append('Graph')\n",
        "\n",
        "    if not content_type:\n",
        "        content_type.append('Unclassified')\n",
        "\n",
        "    return {\n",
        "        \"image_path\": image_path,\n",
        "        \"extracted_text\": extracted_text,\n",
        "        \"content_type\": content_type,\n",
        "        \"tables\": table_data\n",
        "    }\n"
      ],
      "metadata": {
        "id": "EUg1TcWMOqZw"
      },
      "execution_count": null,
      "outputs": []
    },
    {
      "cell_type": "code",
      "source": [
        "import json\n",
        "\n",
        "json_output_folder = '/content/drive/MyDrive/idp_bootcamp/week_1/Week1Assignment-OcrResults-json'\n",
        "if not os.path.exists(json_output_folder):\n",
        "    os.makedirs(json_output_folder)\n",
        "\n",
        "for img_path in image_files:\n",
        "    print(f\"Processing {img_path}...\")\n",
        "\n",
        "    page_data = extract_text_and_structure(img_path)\n",
        "\n",
        "    json_output_path = os.path.join(json_output_folder, os.path.basename(img_path).replace('.png', '.json'))\n",
        "\n",
        "    with open(json_output_path, 'w') as json_file:\n",
        "        json.dump(page_data, json_file, indent=4)\n",
        "\n",
        "    print(f\"JSON output saved to {json_output_path}\")\n"
      ],
      "metadata": {
        "colab": {
          "base_uri": "https://localhost:8080/"
        },
        "id": "mBHqfwMFOybE",
        "outputId": "58e3260e-4e4f-4ad1-f2f5-08e6d6235dca"
      },
      "execution_count": null,
      "outputs": [
        {
          "output_type": "stream",
          "name": "stdout",
          "text": [
            "Processing /content/drive/MyDrive/idp_bootcamp/week_1/Week1Assignment-output/page_1.png...\n",
            "[2024/10/02 17:17:02] ppocr DEBUG: dt_boxes num : 103, elapsed : 0.29761385917663574\n",
            "[2024/10/02 17:17:02] ppocr DEBUG: cls num  : 103, elapsed : 0.3812599182128906\n",
            "[2024/10/02 17:17:15] ppocr DEBUG: rec_res num  : 103, elapsed : 13.197046756744385\n",
            "[2024/10/02 17:17:15] ppocr WARNING: Since the angle classifier is not initialized, it will not be used during the forward process\n",
            "JSON output saved to /content/drive/MyDrive/idp_bootcamp/week_1/Week1Assignment-OcrResults-json/page_1.json\n",
            "Processing /content/drive/MyDrive/idp_bootcamp/week_1/Week1Assignment-output/page_10.png...\n",
            "[2024/10/02 17:17:16] ppocr DEBUG: dt_boxes num : 69, elapsed : 0.29187917709350586\n",
            "[2024/10/02 17:17:16] ppocr DEBUG: cls num  : 69, elapsed : 0.3636445999145508\n",
            "[2024/10/02 17:17:26] ppocr DEBUG: rec_res num  : 69, elapsed : 9.57972240447998\n",
            "[2024/10/02 17:17:26] ppocr WARNING: Since the angle classifier is not initialized, it will not be used during the forward process\n",
            "JSON output saved to /content/drive/MyDrive/idp_bootcamp/week_1/Week1Assignment-OcrResults-json/page_10.json\n",
            "Processing /content/drive/MyDrive/idp_bootcamp/week_1/Week1Assignment-output/page_11.png...\n",
            "[2024/10/02 17:17:27] ppocr DEBUG: dt_boxes num : 43, elapsed : 0.1909029483795166\n",
            "[2024/10/02 17:17:27] ppocr DEBUG: cls num  : 43, elapsed : 0.1673128604888916\n",
            "[2024/10/02 17:17:32] ppocr DEBUG: rec_res num  : 43, elapsed : 5.496984004974365\n",
            "[2024/10/02 17:17:32] ppocr WARNING: Since the angle classifier is not initialized, it will not be used during the forward process\n",
            "JSON output saved to /content/drive/MyDrive/idp_bootcamp/week_1/Week1Assignment-OcrResults-json/page_11.json\n",
            "Processing /content/drive/MyDrive/idp_bootcamp/week_1/Week1Assignment-output/page_12.png...\n",
            "[2024/10/02 17:17:33] ppocr DEBUG: dt_boxes num : 14, elapsed : 0.17202258110046387\n",
            "[2024/10/02 17:17:33] ppocr DEBUG: cls num  : 14, elapsed : 0.0806436538696289\n",
            "[2024/10/02 17:17:35] ppocr DEBUG: rec_res num  : 14, elapsed : 2.2549426555633545\n",
            "[2024/10/02 17:17:35] ppocr WARNING: Since the angle classifier is not initialized, it will not be used during the forward process\n",
            "JSON output saved to /content/drive/MyDrive/idp_bootcamp/week_1/Week1Assignment-OcrResults-json/page_12.json\n",
            "Processing /content/drive/MyDrive/idp_bootcamp/week_1/Week1Assignment-output/page_2.png...\n",
            "[2024/10/02 17:17:35] ppocr DEBUG: dt_boxes num : 103, elapsed : 0.21528911590576172\n",
            "[2024/10/02 17:17:36] ppocr DEBUG: cls num  : 103, elapsed : 0.33019495010375977\n",
            "[2024/10/02 17:17:52] ppocr DEBUG: rec_res num  : 103, elapsed : 16.652223348617554\n",
            "[2024/10/02 17:17:52] ppocr WARNING: Since the angle classifier is not initialized, it will not be used during the forward process\n",
            "JSON output saved to /content/drive/MyDrive/idp_bootcamp/week_1/Week1Assignment-OcrResults-json/page_2.json\n",
            "Processing /content/drive/MyDrive/idp_bootcamp/week_1/Week1Assignment-output/page_3.png...\n",
            "[2024/10/02 17:17:53] ppocr DEBUG: dt_boxes num : 105, elapsed : 0.20821547508239746\n",
            "[2024/10/02 17:17:53] ppocr DEBUG: cls num  : 105, elapsed : 0.3598201274871826\n",
            "[2024/10/02 17:18:08] ppocr DEBUG: rec_res num  : 105, elapsed : 14.643031120300293\n",
            "[2024/10/02 17:18:08] ppocr WARNING: Since the angle classifier is not initialized, it will not be used during the forward process\n",
            "JSON output saved to /content/drive/MyDrive/idp_bootcamp/week_1/Week1Assignment-OcrResults-json/page_3.json\n",
            "Processing /content/drive/MyDrive/idp_bootcamp/week_1/Week1Assignment-output/page_4.png...\n",
            "[2024/10/02 17:18:09] ppocr DEBUG: dt_boxes num : 99, elapsed : 0.21119952201843262\n",
            "[2024/10/02 17:18:09] ppocr DEBUG: cls num  : 99, elapsed : 0.33780694007873535\n",
            "[2024/10/02 17:18:23] ppocr DEBUG: rec_res num  : 99, elapsed : 13.72222089767456\n",
            "[2024/10/02 17:18:23] ppocr WARNING: Since the angle classifier is not initialized, it will not be used during the forward process\n",
            "JSON output saved to /content/drive/MyDrive/idp_bootcamp/week_1/Week1Assignment-OcrResults-json/page_4.json\n",
            "Processing /content/drive/MyDrive/idp_bootcamp/week_1/Week1Assignment-output/page_5.png...\n",
            "[2024/10/02 17:18:23] ppocr DEBUG: dt_boxes num : 112, elapsed : 0.20919466018676758\n",
            "[2024/10/02 17:18:24] ppocr DEBUG: cls num  : 112, elapsed : 0.372495174407959\n",
            "[2024/10/02 17:18:37] ppocr DEBUG: rec_res num  : 112, elapsed : 13.164361000061035\n",
            "[2024/10/02 17:18:37] ppocr WARNING: Since the angle classifier is not initialized, it will not be used during the forward process\n",
            "JSON output saved to /content/drive/MyDrive/idp_bootcamp/week_1/Week1Assignment-OcrResults-json/page_5.json\n",
            "Processing /content/drive/MyDrive/idp_bootcamp/week_1/Week1Assignment-output/page_6.png...\n",
            "[2024/10/02 17:18:37] ppocr DEBUG: dt_boxes num : 103, elapsed : 0.21885323524475098\n",
            "[2024/10/02 17:18:38] ppocr DEBUG: cls num  : 103, elapsed : 0.3470320701599121\n",
            "[2024/10/02 17:18:55] ppocr DEBUG: rec_res num  : 103, elapsed : 17.227347135543823\n",
            "[2024/10/02 17:18:55] ppocr WARNING: Since the angle classifier is not initialized, it will not be used during the forward process\n",
            "JSON output saved to /content/drive/MyDrive/idp_bootcamp/week_1/Week1Assignment-OcrResults-json/page_6.json\n",
            "Processing /content/drive/MyDrive/idp_bootcamp/week_1/Week1Assignment-output/page_7.png...\n",
            "[2024/10/02 17:18:56] ppocr DEBUG: dt_boxes num : 160, elapsed : 0.39699888229370117\n",
            "[2024/10/02 17:18:56] ppocr DEBUG: cls num  : 160, elapsed : 0.5860953330993652\n",
            "[2024/10/02 17:19:16] ppocr DEBUG: rec_res num  : 160, elapsed : 19.537566900253296\n",
            "[2024/10/02 17:19:16] ppocr WARNING: Since the angle classifier is not initialized, it will not be used during the forward process\n",
            "JSON output saved to /content/drive/MyDrive/idp_bootcamp/week_1/Week1Assignment-OcrResults-json/page_7.json\n",
            "Processing /content/drive/MyDrive/idp_bootcamp/week_1/Week1Assignment-output/page_8.png...\n",
            "[2024/10/02 17:19:17] ppocr DEBUG: dt_boxes num : 107, elapsed : 0.3110063076019287\n",
            "[2024/10/02 17:19:17] ppocr DEBUG: cls num  : 107, elapsed : 0.5305156707763672\n",
            "[2024/10/02 17:19:31] ppocr DEBUG: rec_res num  : 107, elapsed : 13.96534276008606\n",
            "[2024/10/02 17:19:31] ppocr WARNING: Since the angle classifier is not initialized, it will not be used during the forward process\n",
            "JSON output saved to /content/drive/MyDrive/idp_bootcamp/week_1/Week1Assignment-OcrResults-json/page_8.json\n",
            "Processing /content/drive/MyDrive/idp_bootcamp/week_1/Week1Assignment-output/page_9.png...\n",
            "[2024/10/02 17:19:32] ppocr DEBUG: dt_boxes num : 114, elapsed : 0.31241655349731445\n",
            "[2024/10/02 17:19:32] ppocr DEBUG: cls num  : 114, elapsed : 0.5046133995056152\n",
            "[2024/10/02 17:19:50] ppocr DEBUG: rec_res num  : 114, elapsed : 17.43358874320984\n",
            "[2024/10/02 17:19:50] ppocr WARNING: Since the angle classifier is not initialized, it will not be used during the forward process\n",
            "JSON output saved to /content/drive/MyDrive/idp_bootcamp/week_1/Week1Assignment-OcrResults-json/page_9.json\n"
          ]
        }
      ]
    }
  ]
}